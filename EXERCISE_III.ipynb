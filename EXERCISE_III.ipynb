{
 "cells": [
  {
   "cell_type": "markdown",
   "id": "34874017",
   "metadata": {},
   "source": [
    "### Exercise III: Statistical Analysis ###\n",
    "\n",
    "What you write here will NOT be saved!\n",
    "Please solve the provided exercises to answer the questions in the previous tab (in the experiment window)."
   ]
  },
  {
   "cell_type": "code",
   "execution_count": 1,
   "id": "c87736ec",
   "metadata": {},
   "outputs": [],
   "source": [
    "import numpy as np\n",
    "import pandas as pd\n",
    "import matplotlib as mpl\n",
    "import statsmodels\n",
    "\n",
    "df = pd.read_csv('Data_III.csv', sep=';')"
   ]
  },
  {
   "cell_type": "markdown",
   "id": "662f1402",
   "metadata": {},
   "source": [
    "#### Assistance provided by the LLM: ###"
   ]
  },
  {
   "cell_type": "code",
   "execution_count": null,
   "id": "8ea42242",
   "metadata": {},
   "outputs": [],
   "source": [
    "# Linear regression model\n",
    "from sklearn.linear_model import LinearRegression\n",
    "model = LinearRegression()\n",
    "model.fit(X, y)\n",
    "\n",
    "# Coefficients\n",
    "slope = model.coef_\n",
    "intercept = model.intercept_\n",
    "print(f\"Slope: {slope}, Intercept: {intercept}\")\n",
    "\n",
    "# Predictions\n",
    "y_pred = model.predict(X)\n",
    "print(y_pred)"
   ]
  },
  {
   "cell_type": "markdown",
   "id": "d9af70e2",
   "metadata": {},
   "source": [
    "#### a) Please conduct a linear least squares regression on the provided series. Use series 1 as the dependent variable."
   ]
  },
  {
   "cell_type": "code",
   "execution_count": null,
   "id": "190fe1e0",
   "metadata": {},
   "outputs": [],
   "source": []
  }
 ],
 "metadata": {
  "kernelspec": {
   "display_name": "mainenv",
   "language": "python",
   "name": "mainenv"
  },
  "language_info": {
   "codemirror_mode": {
    "name": "ipython",
    "version": 3
   },
   "file_extension": ".py",
   "mimetype": "text/x-python",
   "name": "python",
   "nbconvert_exporter": "python",
   "pygments_lexer": "ipython3",
   "version": "3.11.3"
  }
 },
 "nbformat": 4,
 "nbformat_minor": 5
}
